{
  "nbformat": 4,
  "nbformat_minor": 0,
  "metadata": {
    "colab": {
      "provenance": []
    },
    "kernelspec": {
      "name": "python3",
      "display_name": "Python 3"
    },
    "language_info": {
      "name": "python"
    }
  },
  "cells": [
    {
      "cell_type": "code",
      "execution_count": null,
      "metadata": {
        "id": "CTOyz7PbQfJX"
      },
      "outputs": [],
      "source": [
        "import numpy as np                                                  # importing numpy library\n",
        "import pandas as pd                                                 # importing pandas library\n",
        "from scipy.stats import fisher_exact                                # importing scipy.stats library for Fisher's Exact Test\n",
        "import csv"
      ]
    },
    {
      "cell_type": "markdown",
      "source": [
        "#Loading the data"
      ],
      "metadata": {
        "id": "H_blSOH3Vhxb"
      }
    },
    {
      "cell_type": "code",
      "source": [
        "\n",
        "  dataset=pd.read_csv(\"path\")\n",
        "  dataset.head(10)"
      ],
      "metadata": {
        "colab": {
          "base_uri": "https://localhost:8080/",
          "height": 363
        },
        "id": "74delnyKUk3r",
        "outputId": "9bbe6b17-6929-4122-c243-0a91ed7ec6d4"
      },
      "execution_count": null,
      "outputs": [
        {
          "output_type": "execute_result",
          "data": {
            "text/plain": [
              "    SNP  Case_Num_C_Allele  Case_Num_T_Allele  Control_Num_C_Allele  \\\n",
              "0  snp0                 19                 31                    96   \n",
              "1  snp1                 43                  7                    82   \n",
              "2  snp2                 21                 29                    95   \n",
              "3  snp3                 22                 28                     4   \n",
              "4  snp4                 36                 14                    30   \n",
              "5  snp5                 30                 20                    98   \n",
              "6  snp6                 29                 21                     8   \n",
              "7  snp7                 42                  8                     8   \n",
              "8  snp8                 42                  8                    92   \n",
              "9  snp9                  8                 42                    55   \n",
              "\n",
              "   Control_Num_T_Allele  \n",
              "0                     4  \n",
              "1                    18  \n",
              "2                     5  \n",
              "3                    96  \n",
              "4                    70  \n",
              "5                     2  \n",
              "6                    92  \n",
              "7                    92  \n",
              "8                     8  \n",
              "9                    45  "
            ],
            "text/html": [
              "\n",
              "  <div id=\"df-f2b0d24c-983e-4d72-bab0-d6d8acaac260\">\n",
              "    <div class=\"colab-df-container\">\n",
              "      <div>\n",
              "<style scoped>\n",
              "    .dataframe tbody tr th:only-of-type {\n",
              "        vertical-align: middle;\n",
              "    }\n",
              "\n",
              "    .dataframe tbody tr th {\n",
              "        vertical-align: top;\n",
              "    }\n",
              "\n",
              "    .dataframe thead th {\n",
              "        text-align: right;\n",
              "    }\n",
              "</style>\n",
              "<table border=\"1\" class=\"dataframe\">\n",
              "  <thead>\n",
              "    <tr style=\"text-align: right;\">\n",
              "      <th></th>\n",
              "      <th>SNP</th>\n",
              "      <th>Case_Num_C_Allele</th>\n",
              "      <th>Case_Num_T_Allele</th>\n",
              "      <th>Control_Num_C_Allele</th>\n",
              "      <th>Control_Num_T_Allele</th>\n",
              "    </tr>\n",
              "  </thead>\n",
              "  <tbody>\n",
              "    <tr>\n",
              "      <th>0</th>\n",
              "      <td>snp0</td>\n",
              "      <td>19</td>\n",
              "      <td>31</td>\n",
              "      <td>96</td>\n",
              "      <td>4</td>\n",
              "    </tr>\n",
              "    <tr>\n",
              "      <th>1</th>\n",
              "      <td>snp1</td>\n",
              "      <td>43</td>\n",
              "      <td>7</td>\n",
              "      <td>82</td>\n",
              "      <td>18</td>\n",
              "    </tr>\n",
              "    <tr>\n",
              "      <th>2</th>\n",
              "      <td>snp2</td>\n",
              "      <td>21</td>\n",
              "      <td>29</td>\n",
              "      <td>95</td>\n",
              "      <td>5</td>\n",
              "    </tr>\n",
              "    <tr>\n",
              "      <th>3</th>\n",
              "      <td>snp3</td>\n",
              "      <td>22</td>\n",
              "      <td>28</td>\n",
              "      <td>4</td>\n",
              "      <td>96</td>\n",
              "    </tr>\n",
              "    <tr>\n",
              "      <th>4</th>\n",
              "      <td>snp4</td>\n",
              "      <td>36</td>\n",
              "      <td>14</td>\n",
              "      <td>30</td>\n",
              "      <td>70</td>\n",
              "    </tr>\n",
              "    <tr>\n",
              "      <th>5</th>\n",
              "      <td>snp5</td>\n",
              "      <td>30</td>\n",
              "      <td>20</td>\n",
              "      <td>98</td>\n",
              "      <td>2</td>\n",
              "    </tr>\n",
              "    <tr>\n",
              "      <th>6</th>\n",
              "      <td>snp6</td>\n",
              "      <td>29</td>\n",
              "      <td>21</td>\n",
              "      <td>8</td>\n",
              "      <td>92</td>\n",
              "    </tr>\n",
              "    <tr>\n",
              "      <th>7</th>\n",
              "      <td>snp7</td>\n",
              "      <td>42</td>\n",
              "      <td>8</td>\n",
              "      <td>8</td>\n",
              "      <td>92</td>\n",
              "    </tr>\n",
              "    <tr>\n",
              "      <th>8</th>\n",
              "      <td>snp8</td>\n",
              "      <td>42</td>\n",
              "      <td>8</td>\n",
              "      <td>92</td>\n",
              "      <td>8</td>\n",
              "    </tr>\n",
              "    <tr>\n",
              "      <th>9</th>\n",
              "      <td>snp9</td>\n",
              "      <td>8</td>\n",
              "      <td>42</td>\n",
              "      <td>55</td>\n",
              "      <td>45</td>\n",
              "    </tr>\n",
              "  </tbody>\n",
              "</table>\n",
              "</div>\n",
              "      <button class=\"colab-df-convert\" onclick=\"convertToInteractive('df-f2b0d24c-983e-4d72-bab0-d6d8acaac260')\"\n",
              "              title=\"Convert this dataframe to an interactive table.\"\n",
              "              style=\"display:none;\">\n",
              "        \n",
              "  <svg xmlns=\"http://www.w3.org/2000/svg\" height=\"24px\"viewBox=\"0 0 24 24\"\n",
              "       width=\"24px\">\n",
              "    <path d=\"M0 0h24v24H0V0z\" fill=\"none\"/>\n",
              "    <path d=\"M18.56 5.44l.94 2.06.94-2.06 2.06-.94-2.06-.94-.94-2.06-.94 2.06-2.06.94zm-11 1L8.5 8.5l.94-2.06 2.06-.94-2.06-.94L8.5 2.5l-.94 2.06-2.06.94zm10 10l.94 2.06.94-2.06 2.06-.94-2.06-.94-.94-2.06-.94 2.06-2.06.94z\"/><path d=\"M17.41 7.96l-1.37-1.37c-.4-.4-.92-.59-1.43-.59-.52 0-1.04.2-1.43.59L10.3 9.45l-7.72 7.72c-.78.78-.78 2.05 0 2.83L4 21.41c.39.39.9.59 1.41.59.51 0 1.02-.2 1.41-.59l7.78-7.78 2.81-2.81c.8-.78.8-2.07 0-2.86zM5.41 20L4 18.59l7.72-7.72 1.47 1.35L5.41 20z\"/>\n",
              "  </svg>\n",
              "      </button>\n",
              "      \n",
              "  <style>\n",
              "    .colab-df-container {\n",
              "      display:flex;\n",
              "      flex-wrap:wrap;\n",
              "      gap: 12px;\n",
              "    }\n",
              "\n",
              "    .colab-df-convert {\n",
              "      background-color: #E8F0FE;\n",
              "      border: none;\n",
              "      border-radius: 50%;\n",
              "      cursor: pointer;\n",
              "      display: none;\n",
              "      fill: #1967D2;\n",
              "      height: 32px;\n",
              "      padding: 0 0 0 0;\n",
              "      width: 32px;\n",
              "    }\n",
              "\n",
              "    .colab-df-convert:hover {\n",
              "      background-color: #E2EBFA;\n",
              "      box-shadow: 0px 1px 2px rgba(60, 64, 67, 0.3), 0px 1px 3px 1px rgba(60, 64, 67, 0.15);\n",
              "      fill: #174EA6;\n",
              "    }\n",
              "\n",
              "    [theme=dark] .colab-df-convert {\n",
              "      background-color: #3B4455;\n",
              "      fill: #D2E3FC;\n",
              "    }\n",
              "\n",
              "    [theme=dark] .colab-df-convert:hover {\n",
              "      background-color: #434B5C;\n",
              "      box-shadow: 0px 1px 3px 1px rgba(0, 0, 0, 0.15);\n",
              "      filter: drop-shadow(0px 1px 2px rgba(0, 0, 0, 0.3));\n",
              "      fill: #FFFFFF;\n",
              "    }\n",
              "  </style>\n",
              "\n",
              "      <script>\n",
              "        const buttonEl =\n",
              "          document.querySelector('#df-f2b0d24c-983e-4d72-bab0-d6d8acaac260 button.colab-df-convert');\n",
              "        buttonEl.style.display =\n",
              "          google.colab.kernel.accessAllowed ? 'block' : 'none';\n",
              "\n",
              "        async function convertToInteractive(key) {\n",
              "          const element = document.querySelector('#df-f2b0d24c-983e-4d72-bab0-d6d8acaac260');\n",
              "          const dataTable =\n",
              "            await google.colab.kernel.invokeFunction('convertToInteractive',\n",
              "                                                     [key], {});\n",
              "          if (!dataTable) return;\n",
              "\n",
              "          const docLinkHtml = 'Like what you see? Visit the ' +\n",
              "            '<a target=\"_blank\" href=https://colab.research.google.com/notebooks/data_table.ipynb>data table notebook</a>'\n",
              "            + ' to learn more about interactive tables.';\n",
              "          element.innerHTML = '';\n",
              "          dataTable['output_type'] = 'display_data';\n",
              "          await google.colab.output.renderOutput(dataTable, element);\n",
              "          const docLink = document.createElement('div');\n",
              "          docLink.innerHTML = docLinkHtml;\n",
              "          element.appendChild(docLink);\n",
              "        }\n",
              "      </script>\n",
              "    </div>\n",
              "  </div>\n",
              "  "
            ]
          },
          "metadata": {},
          "execution_count": 29
        }
      ]
    },
    {
      "cell_type": "markdown",
      "source": [
        "# **Fisher's Exact Test**"
      ],
      "metadata": {
        "id": "8D5lAjbFY2w7"
      }
    },
    {
      "cell_type": "code",
      "source": [
        "result_SNP ,result_P_value, result_significant_SNP ,count=[],[],[],0\n",
        "    effective_p_value=5*10**(-8)\n",
        "    for index in dataset.index:\n",
        "      c_case,c_control=dataset['Case_Num_C_Allele'][index] , dataset['Control_Num_C_Allele'][index]\n",
        "      t_case,t_control=dataset['Case_Num_T_Allele'][index] , dataset['Control_Num_T_Allele'][index]\n",
        "      table= np.array([[c_case, t_case], [c_control, t_control]])\n",
        "      oddscore, p = fisher_exact(table, alternative='greater')\n",
        "      result_SNP.append(dataset['SNP'][index])\n",
        "      result_P_value.append(p)\n",
        "      if p>effective_p_value:\n",
        "        result_significant_SNP.append('flase')\n",
        "      if p<effective_p_value:\n",
        "        result_significant_SNP.append('true')\n",
        "        count=count+1\n",
        "    print('significant SNPs with given effective P value is',count)"
      ],
      "metadata": {
        "id": "rCK8-5BzhnK3"
      },
      "execution_count": null,
      "outputs": []
    },
    {
      "cell_type": "markdown",
      "source": [
        "# **Bonferroni-corrected p-values**"
      ],
      "metadata": {
        "id": "WJzfyDXZADdR"
      }
    },
    {
      "cell_type": "code",
      "source": [
        "# finding the Bonferroni corrected P value\n",
        "result_corrected_P_value=[]                                            # list created to store the data of SNP's that are significant under corrected effective p value\n",
        "number_of_tests_performed=1000                                       # 1000 SNPS, so each SNP will have one Test , so 1000 tests\n",
        "count2=0                                                               # this variable is created to store the Significant SNPs under corrected P value\n",
        "corrected_p_value=effective_p_value/number_of_tests_performed\n",
        "for i in result_P_value:\n",
        "  if i <corrected_p_value:\n",
        "    result_corrected_P_value.append('true')                            # if the P value is lessthan corrected effective p value , represent with true\n",
        "    count2=count2+1\n",
        "  else:\n",
        "    result_corrected_P_value.append('false')                           # if the p value is greater than corrected effective p value ,given false\n",
        "print('significant SNPs with corrected P value is',count2)\n",
        "print(corrected_p_value)"
      ],
      "metadata": {
        "id": "uWv4iMjBAM8L",
        "colab": {
          "base_uri": "https://localhost:8080/"
        },
        "outputId": "a29177e6-96a0-4499-8a02-5a557ce6b1cc"
      },
      "execution_count": null,
      "outputs": [
        {
          "output_type": "stream",
          "name": "stdout",
          "text": [
            "significant SNPs with corrected P value is 110\n",
            "4.9999999999999995e-11\n"
          ]
        }
      ]
    },
    {
      "cell_type": "code",
      "source": [
        "#converting the SNP list , P value list , Significant p value list into a dataframe\n",
        "new_dataframe=pd.DataFrame({'P_value':result_P_value,'significant_P_value':result_significant_SNP,'corrected_P_value':result_corrected_P_value})"
      ],
      "metadata": {
        "id": "pAxyOsZOUSfc"
      },
      "execution_count": null,
      "outputs": []
    },
    {
      "cell_type": "code",
      "source": [
        "\n",
        "# downloading the dataframe as a CSV file with a name result.csv\n",
        "\n",
        "from google.colab import files\n",
        "\n",
        "new_dataframe.to_csv('result.csv', encoding = 'utf-8-sig',index=False)\n",
        "files.download('result.csv')"
      ],
      "metadata": {
        "colab": {
          "base_uri": "https://localhost:8080/",
          "height": 17
        },
        "id": "VC42qUBl49F7",
        "outputId": "2e77a02b-c0a8-49d9-f453-06989a2d541a"
      },
      "execution_count": null,
      "outputs": [
        {
          "output_type": "display_data",
          "data": {
            "text/plain": [
              "<IPython.core.display.Javascript object>"
            ],
            "application/javascript": [
              "\n",
              "    async function download(id, filename, size) {\n",
              "      if (!google.colab.kernel.accessAllowed) {\n",
              "        return;\n",
              "      }\n",
              "      const div = document.createElement('div');\n",
              "      const label = document.createElement('label');\n",
              "      label.textContent = `Downloading \"${filename}\": `;\n",
              "      div.appendChild(label);\n",
              "      const progress = document.createElement('progress');\n",
              "      progress.max = size;\n",
              "      div.appendChild(progress);\n",
              "      document.body.appendChild(div);\n",
              "\n",
              "      const buffers = [];\n",
              "      let downloaded = 0;\n",
              "\n",
              "      const channel = await google.colab.kernel.comms.open(id);\n",
              "      // Send a message to notify the kernel that we're ready.\n",
              "      channel.send({})\n",
              "\n",
              "      for await (const message of channel.messages) {\n",
              "        // Send a message to notify the kernel that we're ready.\n",
              "        channel.send({})\n",
              "        if (message.buffers) {\n",
              "          for (const buffer of message.buffers) {\n",
              "            buffers.push(buffer);\n",
              "            downloaded += buffer.byteLength;\n",
              "            progress.value = downloaded;\n",
              "          }\n",
              "        }\n",
              "      }\n",
              "      const blob = new Blob(buffers, {type: 'application/binary'});\n",
              "      const a = document.createElement('a');\n",
              "      a.href = window.URL.createObjectURL(blob);\n",
              "      a.download = filename;\n",
              "      div.appendChild(a);\n",
              "      a.click();\n",
              "      div.remove();\n",
              "    }\n",
              "  "
            ]
          },
          "metadata": {}
        },
        {
          "output_type": "display_data",
          "data": {
            "text/plain": [
              "<IPython.core.display.Javascript object>"
            ],
            "application/javascript": [
              "download(\"download_90b3a865-83aa-4570-9845-6bde63247760\", \"result.csv\", 31187)"
            ]
          },
          "metadata": {}
        }
      ]
    },
    {
      "cell_type": "markdown",
      "source": [
        "# **Manhattan Plots**"
      ],
      "metadata": {
        "id": "BSoM0F_T1nGX"
      }
    },
    {
      "cell_type": "code",
      "source": [
        "import matplotlib.pyplot as plt                                  # importing library to plot graph\n",
        "import math                                                      # import math library to get log values\n",
        "log_values=[]                                                    # created list to store the log values\n",
        "lg_effective_P_value=-(math.log10(effective_p_value))            # finding the log value for the effective p value\n",
        "lg_corrected_P_value=-(math.log10(corrected_p_value))            # finding the log value for the corrected p value\n",
        "for i in result_P_value:\n",
        "  a=-(math.log10(i))\n",
        "  log_values.append(a)                                           # finding the log values for all P values\n",
        "SNP_Locus=result_SNP                                             # assigning the X axis values\n",
        "plt.scatter(SNP_Locus,log_values, color='k',s=25,marker='o')     # ploting the graph\n",
        "plt.xlabel('SNP_LOCUS')                                          # giving x label\n",
        "plt.ylabel('-log10(P_values)')                                   # giving y label\n",
        "plt.axhline(lg_corrected_P_value,color='r')                      # drwaing the log corrected p value line\n",
        "plt.axhline(lg_effective_P_value,color='r')                      # drwaing the log effective p value line\n",
        "plt.legend\n",
        "plt.show()                                                       # showing the final plot\n"
      ],
      "metadata": {
        "id": "U2gRgxm_uXFR",
        "colab": {
          "base_uri": "https://localhost:8080/",
          "height": 280
        },
        "outputId": "61cac507-6b76-4dbc-8bd6-b81e59e48764"
      },
      "execution_count": null,
      "outputs": [
        {
          "output_type": "display_data",
          "data": {
            "text/plain": [
              "<Figure size 432x288 with 1 Axes>"
            ],
            "image/png": "[encoded data removed]"
          },
          "metadata": {
            "needs_background": "light"
          }
        }
      ]
    }
  ]
}